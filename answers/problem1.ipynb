{
 "cells": [
  {
   "cell_type": "markdown",
   "metadata": {},
   "source": [
    "Problem 1:\n",
    "\n",
    "I'm choosing SQLite since its easy, light-weight, doesn't require any server installations, and not planning to scale the system at this moment. "
   ]
  },
  {
   "cell_type": "markdown",
   "metadata": {},
   "source": [
    "Data Model:"
   ]
  },
  {
   "cell_type": "code",
   "execution_count": null,
   "metadata": {
    "vscode": {
     "languageId": "sql"
    }
   },
   "outputs": [],
   "source": [
    "CREATE TABLE weather_data_test (\n",
    "    id INTEGER PRIMARY KEY AUTOINCREMENT,\n",
    "    station_id TEXT NOT NULL,\n",
    "    date TEXT CHECK (length(date) = 8) NOT NULL,\n",
    "    max_temp INTEGER CHECK (max_temp >= -9999),\n",
    "    min_temp INTEGER CHECK (min_temp >= -9999),\n",
    "    precipitation INTEGER CHECK (precipitation >= -9999)\n",
    "    UNIQUE (station_id, date)\n",
    ");"
   ]
  }
 ],
 "metadata": {
  "language_info": {
   "name": "python"
  }
 },
 "nbformat": 4,
 "nbformat_minor": 2
}
