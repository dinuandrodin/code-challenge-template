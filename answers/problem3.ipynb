{
 "cells": [
  {
   "cell_type": "markdown",
   "metadata": {},
   "source": [
    "New Table for Weather yearly aggregates\n"
   ]
  },
  {
   "cell_type": "code",
   "execution_count": 1,
   "metadata": {},
   "outputs": [
    {
     "name": "stdout",
     "output_type": "stream",
     "text": [
      "Table 'weather_yearly_summary' created.\n"
     ]
    }
   ],
   "source": [
    "import sqlite3\n",
    "\n",
    "DB_FILE = \"new_weather_data.db\"\n",
    "\n",
    "# Connect to SQLite database\n",
    "conn = sqlite3.connect(DB_FILE)\n",
    "cursor = conn.cursor()\n",
    "\n",
    "# Create a table for yearly statistics\n",
    "cursor.execute(\"\"\"\n",
    "    CREATE TABLE IF NOT EXISTS weather_yearly_summary (\n",
    "        id INTEGER PRIMARY KEY AUTOINCREMENT,\n",
    "        station_id TEXT NOT NULL,\n",
    "        year TEXT NOT NULL,\n",
    "        avg_max_temp REAL,\n",
    "        avg_min_temp REAL,\n",
    "        total_precipitation REAL,\n",
    "        UNIQUE (station_id, year)\n",
    "    );\n",
    "\"\"\")\n",
    "\n",
    "conn.commit()\n",
    "conn.close()\n",
    "print(\"Table 'weather_yearly_summary' created.\")"
   ]
  },
  {
   "cell_type": "markdown",
   "metadata": {},
   "source": [
    "Computations"
   ]
  },
  {
   "cell_type": "code",
   "execution_count": 3,
   "metadata": {},
   "outputs": [
    {
     "name": "stdout",
     "output_type": "stream",
     "text": [
      "Yearly weather aggregates computed and stored successfully.\n"
     ]
    }
   ],
   "source": [
    "conn = sqlite3.connect(DB_FILE)\n",
    "cursor = conn.cursor()\n",
    "\n",
    "# Calculate yearly statistics, ignoring missing values (-9999)\n",
    "cursor.execute(\"\"\"\n",
    "    INSERT OR REPLACE INTO weather_yearly_summary (station_id, year, avg_max_temp, avg_min_temp, total_precipitation)\n",
    "    SELECT \n",
    "        station_id, \n",
    "        SUBSTR(date, 1, 4) AS year,\n",
    "        AVG(NULLIF(max_temp, -9999)) / 10.0 AS avg_max_temp_c,  -- Convert to degrees Celsius\n",
    "        AVG(NULLIF(min_temp, -9999)) / 10.0 AS avg_min_temp_c,  -- Convert to degrees Celsius\n",
    "        SUM(NULLIF(precipitation, -9999)) / 100.0 AS total_precip_cm  -- Convert to centimeters\n",
    "    FROM new_weather_data\n",
    "    GROUP BY station_id, year;\n",
    "\"\"\")\n",
    "\n",
    "conn.commit()\n",
    "conn.close()\n",
    "print(\"Yearly weather aggregates computed and stored successfully.\")\n"
   ]
  },
  {
   "cell_type": "markdown",
   "metadata": {},
   "source": [
    "Results"
   ]
  },
  {
   "cell_type": "code",
   "execution_count": 4,
   "metadata": {},
   "outputs": [
    {
     "data": {
      "text/html": [
       "<div>\n",
       "<style scoped>\n",
       "    .dataframe tbody tr th:only-of-type {\n",
       "        vertical-align: middle;\n",
       "    }\n",
       "\n",
       "    .dataframe tbody tr th {\n",
       "        vertical-align: top;\n",
       "    }\n",
       "\n",
       "    .dataframe thead th {\n",
       "        text-align: right;\n",
       "    }\n",
       "</style>\n",
       "<table border=\"1\" class=\"dataframe\">\n",
       "  <thead>\n",
       "    <tr style=\"text-align: right;\">\n",
       "      <th></th>\n",
       "      <th>id</th>\n",
       "      <th>station_id</th>\n",
       "      <th>year</th>\n",
       "      <th>avg_max_temp</th>\n",
       "      <th>avg_min_temp</th>\n",
       "      <th>total_precipitation</th>\n",
       "    </tr>\n",
       "  </thead>\n",
       "  <tbody>\n",
       "    <tr>\n",
       "      <th>0</th>\n",
       "      <td>1</td>\n",
       "      <td>USC00110072</td>\n",
       "      <td>1985</td>\n",
       "      <td>15.334795</td>\n",
       "      <td>4.326446</td>\n",
       "      <td>78.01</td>\n",
       "    </tr>\n",
       "    <tr>\n",
       "      <th>1</th>\n",
       "      <td>2</td>\n",
       "      <td>USC00110072</td>\n",
       "      <td>1986</td>\n",
       "      <td>12.696337</td>\n",
       "      <td>2.176190</td>\n",
       "      <td>50.53</td>\n",
       "    </tr>\n",
       "    <tr>\n",
       "      <th>2</th>\n",
       "      <td>3</td>\n",
       "      <td>USC00110072</td>\n",
       "      <td>1987</td>\n",
       "      <td>17.760274</td>\n",
       "      <td>6.329863</td>\n",
       "      <td>79.36</td>\n",
       "    </tr>\n",
       "    <tr>\n",
       "      <th>3</th>\n",
       "      <td>4</td>\n",
       "      <td>USC00110072</td>\n",
       "      <td>1988</td>\n",
       "      <td>17.347268</td>\n",
       "      <td>4.534973</td>\n",
       "      <td>54.10</td>\n",
       "    </tr>\n",
       "    <tr>\n",
       "      <th>4</th>\n",
       "      <td>5</td>\n",
       "      <td>USC00110072</td>\n",
       "      <td>1989</td>\n",
       "      <td>15.651507</td>\n",
       "      <td>3.983562</td>\n",
       "      <td>79.37</td>\n",
       "    </tr>\n",
       "    <tr>\n",
       "      <th>...</th>\n",
       "      <td>...</td>\n",
       "      <td>...</td>\n",
       "      <td>...</td>\n",
       "      <td>...</td>\n",
       "      <td>...</td>\n",
       "      <td>...</td>\n",
       "    </tr>\n",
       "    <tr>\n",
       "      <th>4815</th>\n",
       "      <td>4816</td>\n",
       "      <td>USC00339312</td>\n",
       "      <td>2010</td>\n",
       "      <td>16.167671</td>\n",
       "      <td>4.334795</td>\n",
       "      <td>103.40</td>\n",
       "    </tr>\n",
       "    <tr>\n",
       "      <th>4816</th>\n",
       "      <td>4817</td>\n",
       "      <td>USC00339312</td>\n",
       "      <td>2011</td>\n",
       "      <td>16.307671</td>\n",
       "      <td>5.046027</td>\n",
       "      <td>136.07</td>\n",
       "    </tr>\n",
       "    <tr>\n",
       "      <th>4817</th>\n",
       "      <td>4818</td>\n",
       "      <td>USC00339312</td>\n",
       "      <td>2012</td>\n",
       "      <td>17.798361</td>\n",
       "      <td>5.165027</td>\n",
       "      <td>91.08</td>\n",
       "    </tr>\n",
       "    <tr>\n",
       "      <th>4818</th>\n",
       "      <td>4819</td>\n",
       "      <td>USC00339312</td>\n",
       "      <td>2013</td>\n",
       "      <td>15.473699</td>\n",
       "      <td>4.018356</td>\n",
       "      <td>109.90</td>\n",
       "    </tr>\n",
       "    <tr>\n",
       "      <th>4819</th>\n",
       "      <td>4820</td>\n",
       "      <td>USC00339312</td>\n",
       "      <td>2014</td>\n",
       "      <td>14.703836</td>\n",
       "      <td>2.878356</td>\n",
       "      <td>99.43</td>\n",
       "    </tr>\n",
       "  </tbody>\n",
       "</table>\n",
       "<p>4820 rows × 6 columns</p>\n",
       "</div>"
      ],
      "text/plain": [
       "        id   station_id  year  avg_max_temp  avg_min_temp  total_precipitation\n",
       "0        1  USC00110072  1985     15.334795      4.326446                78.01\n",
       "1        2  USC00110072  1986     12.696337      2.176190                50.53\n",
       "2        3  USC00110072  1987     17.760274      6.329863                79.36\n",
       "3        4  USC00110072  1988     17.347268      4.534973                54.10\n",
       "4        5  USC00110072  1989     15.651507      3.983562                79.37\n",
       "...    ...          ...   ...           ...           ...                  ...\n",
       "4815  4816  USC00339312  2010     16.167671      4.334795               103.40\n",
       "4816  4817  USC00339312  2011     16.307671      5.046027               136.07\n",
       "4817  4818  USC00339312  2012     17.798361      5.165027                91.08\n",
       "4818  4819  USC00339312  2013     15.473699      4.018356               109.90\n",
       "4819  4820  USC00339312  2014     14.703836      2.878356                99.43\n",
       "\n",
       "[4820 rows x 6 columns]"
      ]
     },
     "execution_count": 4,
     "metadata": {},
     "output_type": "execute_result"
    }
   ],
   "source": [
    "import pandas as pd\n",
    "\n",
    "conn = sqlite3.connect(DB_FILE)\n",
    "\n",
    "# Read and display summary data as a dataframe\n",
    "df = pd.read_sql_query(\"SELECT * FROM weather_yearly_summary ORDER BY station_id, year;\", conn)\n",
    "conn.close()\n",
    "\n",
    "df\n"
   ]
  }
 ],
 "metadata": {
  "kernelspec": {
   "display_name": "Python 3",
   "language": "python",
   "name": "python3"
  },
  "language_info": {
   "codemirror_mode": {
    "name": "ipython",
    "version": 3
   },
   "file_extension": ".py",
   "mimetype": "text/x-python",
   "name": "python",
   "nbconvert_exporter": "python",
   "pygments_lexer": "ipython3",
   "version": "3.11.0"
  }
 },
 "nbformat": 4,
 "nbformat_minor": 2
}
